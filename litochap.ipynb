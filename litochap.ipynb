{
 "cells": [
  {
   "cell_type": "code",
   "execution_count": 2,
   "metadata": {},
   "outputs": [
    {
     "name": "stdout",
     "output_type": "stream",
     "text": [
      "        Fecha             Concepto     Horas\n",
      "0  2022-10-17         Preimpresión  05:00:00\n",
      "1  2022-10-17         Comunicacion  01:00:00\n",
      "2  2022-10-18         Preimpresión  06:00:00\n",
      "3  2022-10-19         Preimpresión  06:00:00\n",
      "4  2022-10-20         Comunicacion  00:30:00\n",
      "5  2022-10-20         Preimpresión  05:30:00\n",
      "6  2022-10-21         Preimpresión  06:00:00\n",
      "7  2022-10-24         Preimpresión  04:15:00\n",
      "8  2022-10-24         Comunicacion  00:45:00\n",
      "9  2022-10-24         Preimpresión  02:00:00\n",
      "10 2022-10-25         Preimpresión  05:00:00\n",
      "11 2022-10-25         Comunicacion  01:00:00\n",
      "12 2022-10-25         Preimpresión  01:00:00\n",
      "13 2022-10-26         Preimpresión  06:00:00\n",
      "14 2022-10-28         Preimpresión  06:00:00\n",
      "15 2022-10-31         Preimpresión  06:00:00\n",
      "16 2022-11-02         Preimpresión  06:00:00\n",
      "17 2022-11-03         Preimpresión  02:30:00\n",
      "18 2022-11-03         Comunicacion  03:30:00\n",
      "19 2022-11-04         Preimpresión  06:00:00\n",
      "20 2022-11-07         Comunicacion  04:00:00\n",
      "21 2022-11-07         Preimpresión  02:00:00\n",
      "22 2022-11-08         Preimpresión  06:00:00\n",
      "23 2022-12-03         Preimpresión  06:00:00\n",
      "24 2022-12-03  Archivo Fotográfico  12:00:00\n"
     ]
    }
   ],
   "source": [
    "# es necesario instalar python, y las librerias: pandas, odfpy y matplotlib\n",
    "\n",
    "import pandas as pd\n",
    "\n",
    "file = \"c:/Users/dieg0nline/Downloads/data.ods\" # ruta del archivo\n",
    "sheet = \"TOMA_DE_DATOS\" # hoja con los datos\n",
    "range = \"A:C\" # rango\n",
    "\n",
    "df = pd.read_excel(file, sheet_name= sheet, usecols= range)\n",
    "\n",
    "print(df) # no es necesario en el script de PowerBi"
   ]
  }
 ],
 "metadata": {
  "kernelspec": {
   "display_name": "Python 3.10.8 64-bit (microsoft store)",
   "language": "python",
   "name": "python3"
  },
  "language_info": {
   "codemirror_mode": {
    "name": "ipython",
    "version": 3
   },
   "file_extension": ".py",
   "mimetype": "text/x-python",
   "name": "python",
   "nbconvert_exporter": "python",
   "pygments_lexer": "ipython3",
   "version": "3.10.8"
  },
  "orig_nbformat": 4,
  "vscode": {
   "interpreter": {
    "hash": "139870558da746b474c610a7358cf235cfa6f6bebbad7e598af6a1d3319ead65"
   }
  }
 },
 "nbformat": 4,
 "nbformat_minor": 2
}
