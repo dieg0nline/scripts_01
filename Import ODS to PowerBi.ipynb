{
 "cells": [
  {
   "cell_type": "code",
   "execution_count": null,
   "metadata": {},
   "outputs": [],
   "source": [
    "# es necesario instalar python, y las librerias: pandas, odfpy y matplotlib\n",
    "\n",
    "import pandas as pd\n",
    "\n",
    "file = \"c:/Users/dieg0nline/Downloads/data.ods\" # ruta del archivo\n",
    "sheet = \"TOMA_DE_DATOS\" # hoja con los datos\n",
    "range = \"A:C\" # rango\n",
    "\n",
    "df = pd.read_excel(file, sheet_name=sheet, usecols=range)\n",
    "\n",
    "print(df) # no es necesario en el script de PowerBi"
   ]
  }
 ],
 "metadata": {
  "kernelspec": {
   "display_name": "Python 3.10.6 64-bit",
   "language": "python",
   "name": "python3"
  },
  "language_info": {
   "codemirror_mode": {
    "name": "ipython",
    "version": 3
   },
   "file_extension": ".py",
   "mimetype": "text/x-python",
   "name": "python",
   "nbconvert_exporter": "python",
   "pygments_lexer": "ipython3",
   "version": "3.10.6 (main, Nov  2 2022, 18:53:38) [GCC 11.3.0]"
  },
  "orig_nbformat": 4,
  "vscode": {
   "interpreter": {
    "hash": "916dbcbb3f70747c44a77c7bcd40155683ae19c65e1c03b4aa3499c5328201f1"
   }
  }
 },
 "nbformat": 4,
 "nbformat_minor": 2
}
