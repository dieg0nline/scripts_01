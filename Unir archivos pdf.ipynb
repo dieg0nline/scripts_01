{
 "cells": [
  {
   "cell_type": "markdown",
   "metadata": {},
   "source": [
    "## Unir archivos pdf\n",
    "\n",
    "Instalar la librería PyPDF2\n",
    "\n",
    "~~~ py\n",
    "pip install PyPDF2\n",
    "~~~"
   ]
  },
  {
   "cell_type": "code",
   "execution_count": null,
   "metadata": {},
   "outputs": [],
   "source": [
    "import PyPDF2 as pydf\n",
    "import sys\n",
    "import os\n",
    "\n",
    "unir = pydf.PdfFileMerger()\n",
    "\n",
    "for file in os.listdir(os.curdir):\n",
    "    if file.endswith(\".pdf\"):\n",
    "        unir.append(file)\n",
    "    unir.write(\"Archivos/FINAL.pdf\")"
   ]
  }
 ],
 "metadata": {
  "kernelspec": {
   "display_name": "Python 3.10.6 64-bit",
   "language": "python",
   "name": "python3"
  },
  "language_info": {
   "codemirror_mode": {
    "name": "ipython",
    "version": 3
   },
   "file_extension": ".py",
   "mimetype": "text/x-python",
   "name": "python",
   "nbconvert_exporter": "python",
   "pygments_lexer": "ipython3",
   "version": "3.10.6"
  },
  "orig_nbformat": 4,
  "vscode": {
   "interpreter": {
    "hash": "916dbcbb3f70747c44a77c7bcd40155683ae19c65e1c03b4aa3499c5328201f1"
   }
  }
 },
 "nbformat": 4,
 "nbformat_minor": 2
}
