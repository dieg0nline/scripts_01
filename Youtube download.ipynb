{
 "cells": [
  {
   "cell_type": "markdown",
   "metadata": {},
   "source": [
    "## Descargar vídeos desde Youtube\n",
    "\n",
    "Instalar la librería pytube\n",
    "\n",
    "~~~ py\n",
    "pip install pytube\n",
    "~~~"
   ]
  },
  {
   "cell_type": "code",
   "execution_count": 8,
   "metadata": {},
   "outputs": [
    {
     "name": "stdout",
     "output_type": "stream",
     "text": [
      "Título:  3 PYTHON AUTOMATION PROJECTS FOR BEGINNERS\n",
      "Visualizaciones:  430784\n"
     ]
    },
    {
     "data": {
      "text/plain": [
       "'/home/dieg0nline/Dropbox/Estudiar/cursos/scripts/scripts_01/Archivos/3 PYTHON AUTOMATION PROJECTS FOR BEGINNERS.mp4'"
      ]
     },
     "execution_count": 8,
     "metadata": {},
     "output_type": "execute_result"
    }
   ],
   "source": [
    "from pytube import YouTube\n",
    "# from sys import argv \n",
    "\n",
    "# link = argv[1]\n",
    "# link = \"https://www.youtube.com/watch?v=vEQ8CXFWLZU\"\n",
    "link = input(\"Introduce enláce del vídeo: \")\n",
    "\n",
    "yt = YouTube(link)\n",
    "\n",
    "print(\"Título: \", yt.title)\n",
    "print(\"Visualizaciones: \", yt.views)\n",
    "\n",
    "VideoDescarga = yt.streams.get_highest_resolution()\n",
    "VideoDescarga.download(\"Archivos\") # ruta donde descargaremos el vídeo\n",
    "\n"
   ]
  }
 ],
 "metadata": {
  "kernelspec": {
   "display_name": "Python 3.10.6 64-bit",
   "language": "python",
   "name": "python3"
  },
  "language_info": {
   "codemirror_mode": {
    "name": "ipython",
    "version": 3
   },
   "file_extension": ".py",
   "mimetype": "text/x-python",
   "name": "python",
   "nbconvert_exporter": "python",
   "pygments_lexer": "ipython3",
   "version": "3.10.6"
  },
  "orig_nbformat": 4,
  "vscode": {
   "interpreter": {
    "hash": "916dbcbb3f70747c44a77c7bcd40155683ae19c65e1c03b4aa3499c5328201f1"
   }
  }
 },
 "nbformat": 4,
 "nbformat_minor": 2
}
